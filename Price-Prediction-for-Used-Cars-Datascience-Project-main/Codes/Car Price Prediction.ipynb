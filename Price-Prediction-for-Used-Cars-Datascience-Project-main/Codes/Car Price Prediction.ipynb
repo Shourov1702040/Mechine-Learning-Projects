{
 "cells": [
  {
   "cell_type": "markdown",
   "id": "24844458",
   "metadata": {},
   "source": [
    "# _Car Price Prediction_\n",
    "**_Importing The Required Libraries & Packages_**"
   ]
  },
  {
   "cell_type": "code",
   "execution_count": 1,
   "id": "43ac3257",
   "metadata": {},
   "outputs": [],
   "source": [
    "import numpy as np\n",
    "import pandas as pd\n",
    "import matplotlib.pyplot as plt\n",
    "import datetime\n",
    "import seaborn as sns\n",
    "%matplotlib inline\n",
    "import os\n",
    "from sklearn.preprocessing import StandardScaler\n",
    "from sklearn.model_selection import train_test_split,GridSearchCV\n",
    "from sklearn.linear_model import LinearRegression,Ridge,Lasso\n",
    "from sklearn.ensemble import RandomForestRegressor,ExtraTreesRegressor,AdaBoostRegressor\n",
    "from sklearn.metrics import r2_score,mean_absolute_error,mean_squared_error\n",
    "from xgboost import XGBRegressor\n",
    "from catboost import CatBoostRegressor\n",
    "from lightgbm import LGBMRegressor\n",
    "from math import sqrt\n",
    "import pickle\n",
    "import warnings\n",
    "warnings.filterwarnings('ignore')"
   ]
  },
  {
   "cell_type": "markdown",
   "id": "1c0ff59e",
   "metadata": {},
   "source": [
    "**_Changing The Default Working Directory & Path and Reading The Dataset Using Pandas Command_**"
   ]
  },
  {
   "cell_type": "code",
   "execution_count": 2,
   "id": "9d622afb",
   "metadata": {},
   "outputs": [],
   "source": [
    "os.chdir('C:\\\\Users\\\\chand\\\\OneDrive\\\\Desktop\\\\Car Price Prediction\\\\')\n",
    "df = pd.read_csv('dataset.csv')"
   ]
  },
  {
   "cell_type": "markdown",
   "id": "8fb561cb",
   "metadata": {},
   "source": [
    "## _Data Cleaning_\n",
    "**_Viewing the dataset for identifying the unwanted columns_**"
   ]
  },
  {
   "cell_type": "code",
   "execution_count": 3,
   "id": "9e487638",
   "metadata": {},
   "outputs": [
    {
     "data": {
      "text/html": [
       "<div>\n",
       "<style scoped>\n",
       "    .dataframe tbody tr th:only-of-type {\n",
       "        vertical-align: middle;\n",
       "    }\n",
       "\n",
       "    .dataframe tbody tr th {\n",
       "        vertical-align: top;\n",
       "    }\n",
       "\n",
       "    .dataframe thead th {\n",
       "        text-align: right;\n",
       "    }\n",
       "</style>\n",
       "<table border=\"1\" class=\"dataframe\">\n",
       "  <thead>\n",
       "    <tr style=\"text-align: right;\">\n",
       "      <th></th>\n",
       "      <th>Unnamed: 0</th>\n",
       "      <th>Name</th>\n",
       "      <th>Location</th>\n",
       "      <th>Year</th>\n",
       "      <th>Kilometers_Driven</th>\n",
       "      <th>Fuel_Type</th>\n",
       "      <th>Transmission</th>\n",
       "      <th>Owner_Type</th>\n",
       "      <th>Mileage</th>\n",
       "      <th>Engine</th>\n",
       "      <th>Power</th>\n",
       "      <th>Seats</th>\n",
       "      <th>New_Price</th>\n",
       "      <th>Price</th>\n",
       "    </tr>\n",
       "  </thead>\n",
       "  <tbody>\n",
       "    <tr>\n",
       "      <th>0</th>\n",
       "      <td>0</td>\n",
       "      <td>Maruti Wagon R LXI CNG</td>\n",
       "      <td>Mumbai</td>\n",
       "      <td>2010</td>\n",
       "      <td>72000</td>\n",
       "      <td>CNG</td>\n",
       "      <td>Manual</td>\n",
       "      <td>First</td>\n",
       "      <td>26.6 km/kg</td>\n",
       "      <td>998 CC</td>\n",
       "      <td>58.16 bhp</td>\n",
       "      <td>5.0</td>\n",
       "      <td>NaN</td>\n",
       "      <td>1.75</td>\n",
       "    </tr>\n",
       "    <tr>\n",
       "      <th>1</th>\n",
       "      <td>1</td>\n",
       "      <td>Hyundai Creta 1.6 CRDi SX Option</td>\n",
       "      <td>Pune</td>\n",
       "      <td>2015</td>\n",
       "      <td>41000</td>\n",
       "      <td>Diesel</td>\n",
       "      <td>Manual</td>\n",
       "      <td>First</td>\n",
       "      <td>19.67 kmpl</td>\n",
       "      <td>1582 CC</td>\n",
       "      <td>126.2 bhp</td>\n",
       "      <td>5.0</td>\n",
       "      <td>NaN</td>\n",
       "      <td>12.50</td>\n",
       "    </tr>\n",
       "    <tr>\n",
       "      <th>2</th>\n",
       "      <td>2</td>\n",
       "      <td>Honda Jazz V</td>\n",
       "      <td>Chennai</td>\n",
       "      <td>2011</td>\n",
       "      <td>46000</td>\n",
       "      <td>Petrol</td>\n",
       "      <td>Manual</td>\n",
       "      <td>First</td>\n",
       "      <td>18.2 kmpl</td>\n",
       "      <td>1199 CC</td>\n",
       "      <td>88.7 bhp</td>\n",
       "      <td>5.0</td>\n",
       "      <td>8.61 Lakh</td>\n",
       "      <td>4.50</td>\n",
       "    </tr>\n",
       "    <tr>\n",
       "      <th>3</th>\n",
       "      <td>3</td>\n",
       "      <td>Maruti Ertiga VDI</td>\n",
       "      <td>Chennai</td>\n",
       "      <td>2012</td>\n",
       "      <td>87000</td>\n",
       "      <td>Diesel</td>\n",
       "      <td>Manual</td>\n",
       "      <td>First</td>\n",
       "      <td>20.77 kmpl</td>\n",
       "      <td>1248 CC</td>\n",
       "      <td>88.76 bhp</td>\n",
       "      <td>7.0</td>\n",
       "      <td>NaN</td>\n",
       "      <td>6.00</td>\n",
       "    </tr>\n",
       "    <tr>\n",
       "      <th>4</th>\n",
       "      <td>4</td>\n",
       "      <td>Audi A4 New 2.0 TDI Multitronic</td>\n",
       "      <td>Coimbatore</td>\n",
       "      <td>2013</td>\n",
       "      <td>40670</td>\n",
       "      <td>Diesel</td>\n",
       "      <td>Automatic</td>\n",
       "      <td>Second</td>\n",
       "      <td>15.2 kmpl</td>\n",
       "      <td>1968 CC</td>\n",
       "      <td>140.8 bhp</td>\n",
       "      <td>5.0</td>\n",
       "      <td>NaN</td>\n",
       "      <td>17.74</td>\n",
       "    </tr>\n",
       "  </tbody>\n",
       "</table>\n",
       "</div>"
      ],
      "text/plain": [
       "   Unnamed: 0                              Name    Location  Year  \\\n",
       "0           0            Maruti Wagon R LXI CNG      Mumbai  2010   \n",
       "1           1  Hyundai Creta 1.6 CRDi SX Option        Pune  2015   \n",
       "2           2                      Honda Jazz V     Chennai  2011   \n",
       "3           3                 Maruti Ertiga VDI     Chennai  2012   \n",
       "4           4   Audi A4 New 2.0 TDI Multitronic  Coimbatore  2013   \n",
       "\n",
       "   Kilometers_Driven Fuel_Type Transmission Owner_Type     Mileage   Engine  \\\n",
       "0              72000       CNG       Manual      First  26.6 km/kg   998 CC   \n",
       "1              41000    Diesel       Manual      First  19.67 kmpl  1582 CC   \n",
       "2              46000    Petrol       Manual      First   18.2 kmpl  1199 CC   \n",
       "3              87000    Diesel       Manual      First  20.77 kmpl  1248 CC   \n",
       "4              40670    Diesel    Automatic     Second   15.2 kmpl  1968 CC   \n",
       "\n",
       "       Power  Seats  New_Price  Price  \n",
       "0  58.16 bhp    5.0        NaN   1.75  \n",
       "1  126.2 bhp    5.0        NaN  12.50  \n",
       "2   88.7 bhp    5.0  8.61 Lakh   4.50  \n",
       "3  88.76 bhp    7.0        NaN   6.00  \n",
       "4  140.8 bhp    5.0        NaN  17.74  "
      ]
     },
     "metadata": {},
     "output_type": "display_data"
    }
   ],
   "source": [
    "display(df.head())"
   ]
  },
  {
   "cell_type": "markdown",
   "id": "132a7583",
   "metadata": {},
   "source": [
    "**_Dropping the `Unnamed: 0`,`Location`and `New_Price` column since it is not much important for the prediction_**"
   ]
  },
  {
   "cell_type": "code",
   "execution_count": 4,
   "id": "43e005f6",
   "metadata": {},
   "outputs": [],
   "source": [
    "df.drop(['Unnamed: 0','Location','New_Price'],axis=1,inplace=True)"
   ]
  },
  {
   "cell_type": "markdown",
   "id": "369da3fd",
   "metadata": {},
   "source": [
    "**_Checking the Null values of all the Columns in the dataset_**"
   ]
  },
  {
   "cell_type": "code",
   "execution_count": 5,
   "id": "ef1e9bc0",
   "metadata": {
    "scrolled": true
   },
   "outputs": [
    {
     "data": {
      "text/plain": [
       "Name                  0\n",
       "Year                  0\n",
       "Kilometers_Driven     0\n",
       "Fuel_Type             0\n",
       "Transmission          0\n",
       "Owner_Type            0\n",
       "Mileage               2\n",
       "Engine               36\n",
       "Power                36\n",
       "Seats                42\n",
       "Price                 0\n",
       "dtype: int64"
      ]
     },
     "execution_count": 5,
     "metadata": {},
     "output_type": "execute_result"
    }
   ],
   "source": [
    "df.isnull().sum()"
   ]
  },
  {
   "cell_type": "markdown",
   "id": "2e44ca92",
   "metadata": {},
   "source": [
    "**_There are several cars in the dataset,some of them with a count higher than 1.sometimes the resale value of a car also depends on manufacturer of the car. So, here extracting the manufacturer name from this column and adding it to the dataset_**"
   ]
  },
  {
   "cell_type": "code",
   "execution_count": 6,
   "id": "9fe62c02",
   "metadata": {},
   "outputs": [],
   "source": [
    "manufacturer = df['Name'].str.split(' ',expand=True)\n",
    "df['Manufacturer'] = manufacturer[0]"
   ]
  },
  {
   "cell_type": "markdown",
   "id": "a0a3365a",
   "metadata": {},
   "source": [
    "**_The `Year` column from the datasethas no significance on its own so calculating  the years of cars used till now and adding it to the dataset._**"
   ]
  },
  {
   "cell_type": "code",
   "execution_count": 7,
   "id": "70c0c061",
   "metadata": {},
   "outputs": [],
   "source": [
    "curr_time = datetime.datetime.now()\n",
    "df['Year Used']=df['Year'].apply(lambda x:curr_time.year-x)"
   ]
  },
  {
   "cell_type": "markdown",
   "id": "a1057604",
   "metadata": {},
   "source": [
    "**_dropping the `Name` and `Year` columns since the needed data is extracted from it and added to the dataset in seperate columns as `Manufacturer` and `Year Used`_**"
   ]
  },
  {
   "cell_type": "code",
   "execution_count": 8,
   "id": "16c15c79",
   "metadata": {
    "scrolled": false
   },
   "outputs": [],
   "source": [
    "df.drop(['Name','Year'],axis=1,inplace=True)"
   ]
  },
  {
   "cell_type": "markdown",
   "id": "9d131c38",
   "metadata": {},
   "source": [
    "**_The `Mileage` columns defines the mileage of the car which affects the price of the car during the sales. So that Extracting the numerical values from the `Mileage` column and since it has missing values,filling out the missing values with the mean & modifying the column with the values_** "
   ]
  },
  {
   "cell_type": "code",
   "execution_count": 9,
   "id": "4c094dda",
   "metadata": {},
   "outputs": [],
   "source": [
    "mileage = df['Mileage'].str.split(' ',expand=True)\n",
    "df['Mileage'] = pd.to_numeric(mileage[0],errors='coerce')\n",
    "df['Mileage'].fillna(df['Mileage'].astype('float').mean(),inplace=True)"
   ]
  },
  {
   "cell_type": "markdown",
   "id": "aab61e81",
   "metadata": {},
   "source": [
    "**_The `Engine` columns has the CC of the car which affects the price of the car during the sales. So that removing CC and Extracting the numerical values from the `Engine` column and since it has missing values,filling out the missing values with the mean  modifying the column with the values_** "
   ]
  },
  {
   "cell_type": "code",
   "execution_count": 10,
   "id": "0c92e775",
   "metadata": {},
   "outputs": [],
   "source": [
    "engine = df['Engine'].str.split(' ',expand=True)\n",
    "df['Engine']=pd.to_numeric(engine[0],errors='coerce')\n",
    "df['Engine'].fillna(df['Engine'].astype('float').mean(),inplace=True)"
   ]
  },
  {
   "cell_type": "markdown",
   "id": "c0aae64b",
   "metadata": {},
   "source": [
    "**_The `Power` columns has the bhp of the car which affects the price of the car during the sales. So that removing bhp and Extracting the numerical values from the `Power` column and since it has missing values,filling out the missing values with the mean  modifying the column with the values_** "
   ]
  },
  {
   "cell_type": "code",
   "execution_count": 11,
   "id": "eea558c2",
   "metadata": {},
   "outputs": [],
   "source": [
    "power = df['Power'].str.split(' ',expand=True)\n",
    "df['Power']=pd.to_numeric(power[0],errors='coerce')\n",
    "df['Power'].fillna(df['Power'].astype('float').mean(),inplace=True)"
   ]
  },
  {
   "cell_type": "markdown",
   "id": "f1815155",
   "metadata": {},
   "source": [
    "**_since the `Seats` columns has some missing values filling out the missing values with the mean value of the same column_**"
   ]
  },
  {
   "cell_type": "code",
   "execution_count": 12,
   "id": "af449be5",
   "metadata": {},
   "outputs": [],
   "source": [
    "df['Seats'].fillna(df['Seats'].astype('float').mean(),inplace=True)"
   ]
  },
  {
   "cell_type": "markdown",
   "id": "594232c7",
   "metadata": {},
   "source": [
    "**_After Filling out the missing value with the appropriate values,checking for the null value in the dataset._**"
   ]
  },
  {
   "cell_type": "code",
   "execution_count": 13,
   "id": "8879aa4c",
   "metadata": {},
   "outputs": [
    {
     "data": {
      "text/plain": [
       "Kilometers_Driven    0\n",
       "Fuel_Type            0\n",
       "Transmission         0\n",
       "Owner_Type           0\n",
       "Mileage              0\n",
       "Engine               0\n",
       "Power                0\n",
       "Seats                0\n",
       "Price                0\n",
       "Manufacturer         0\n",
       "Year Used            0\n",
       "dtype: int64"
      ]
     },
     "execution_count": 13,
     "metadata": {},
     "output_type": "execute_result"
    }
   ],
   "source": [
    "df.isnull().sum()"
   ]
  },
  {
   "cell_type": "markdown",
   "id": "38f55e6b",
   "metadata": {},
   "source": [
    "## _Data Visualization_\n",
    "**_Plotting the Bar Graph with count of cars based on the `Manufacturer` and confirm that there are no null values and identify all the unique values from the `Manufacturer` and saving the png file_**"
   ]
  },
  {
   "cell_type": "code",
   "execution_count": 14,
   "id": "ac49354e",
   "metadata": {},
   "outputs": [
    {
     "data": {
      "image/png": "[encoded data removed]",
      "text/plain": [
       "<Figure size 2000x1000 with 1 Axes>"
      ]
     },
     "metadata": {},
     "output_type": "display_data"
    }
   ],
   "source": [
    "plt.rcParams['figure.figsize']=(20,10)\n",
    "plot = sns.countplot(x='Manufacturer',data = df)\n",
    "plt.xticks(rotation=90)\n",
    "for p in plot.patches:\n",
    "    plot.annotate(p.get_height(),(p.get_x()+p.get_width()/2.0,p.get_height()),\n",
    "                  ha='center',va='center',xytext=(0,5),textcoords='offset points')\n",
    "plt.title('Count of Car based on Manufacturer')\n",
    "plt.xlabel('Manufacturer')\n",
    "plt.ylabel('count of car ')\n",
    "plt.savefig('Count of Car.png')\n",
    "plt.show()"
   ]
  },
  {
   "cell_type": "markdown",
   "id": "deb51859",
   "metadata": {},
   "source": [
    "**_Getting the correlation value from all the numeric columns from the independent variable using seaborn Heatmap & saving the PNG file_**"
   ]
  },
  {
   "cell_type": "code",
   "execution_count": 15,
   "id": "33a22bcc",
   "metadata": {},
   "outputs": [
    {
     "data": {
      "image/png": "[encoded data removed]",
      "text/plain": [
       "<Figure size 2000x1000 with 2 Axes>"
      ]
     },
     "metadata": {},
     "output_type": "display_data"
    }
   ],
   "source": [
    "corr = df.corr()\n",
    "sns.heatmap(corr,annot=True,cmap = sns.cubehelix_palette(as_cmap=True),cbar=True,square=True)\n",
    "plt.title('Correlation Heat Map')\n",
    "plt.savefig('Correlation Heat Map.png')\n",
    "plt.show()"
   ]
  },
  {
   "cell_type": "markdown",
   "id": "95302999",
   "metadata": {},
   "source": [
    "**_Assigning the dependent and independent variables_**"
   ]
  },
  {
   "cell_type": "code",
   "execution_count": 16,
   "id": "ceba48e5",
   "metadata": {},
   "outputs": [],
   "source": [
    "x = df.drop(['Price'],axis=1)\n",
    "y = df['Price']"
   ]
  },
  {
   "cell_type": "markdown",
   "id": "8b0c0b2c",
   "metadata": {},
   "source": [
    "## _Data Preprocessing_\n",
    "**_Splitting the dependent and independent variable into training and test dataset using train test split._**"
   ]
  },
  {
   "cell_type": "code",
   "execution_count": 17,
   "id": "5b0b2e51",
   "metadata": {},
   "outputs": [],
   "source": [
    "x_train,x_test,y_train,y_test = train_test_split(x,y,test_size=0.3,random_state=45)"
   ]
  },
  {
   "cell_type": "markdown",
   "id": "ca6fa780",
   "metadata": {},
   "source": [
    "**_Creating the dummy columns for all the categorical columns such as `Manufacturer`,`Fuel_Type`,`Transmission`,`Owner_Type` in the training independent dataset and getting the dimensions of the training independent dataset for cross-check_**"
   ]
  },
  {
   "cell_type": "code",
   "execution_count": 18,
   "id": "16b2d973",
   "metadata": {},
   "outputs": [
    {
     "name": "stdout",
     "output_type": "stream",
     "text": [
      "(4213, 42)\n"
     ]
    }
   ],
   "source": [
    "x_train = pd.get_dummies(x_train,columns=['Manufacturer','Fuel_Type','Transmission','Owner_Type'],drop_first=True)\n",
    "print(x_train.shape)"
   ]
  },
  {
   "cell_type": "markdown",
   "id": "cbb44b3a",
   "metadata": {},
   "source": [
    "**_Creating the dummy columns for all the categorical columns such as `Manufacturer`,`Fuel_Type`,`Transmission`,`Owner_Type` in the test independent dataset and getting the dimensions of the test independent dataset for cross-check_**"
   ]
  },
  {
   "cell_type": "code",
   "execution_count": 19,
   "id": "138e8757",
   "metadata": {},
   "outputs": [
    {
     "name": "stdout",
     "output_type": "stream",
     "text": [
      "(1806, 38)\n"
     ]
    }
   ],
   "source": [
    "x_test = pd.get_dummies(x_test,columns=['Manufacturer','Fuel_Type','Transmission','Owner_Type'],drop_first=True)\n",
    "print(x_test.shape)"
   ]
  },
  {
   "cell_type": "markdown",
   "id": "df9661bc",
   "metadata": {},
   "source": [
    "**_By the Dimensional checking its os evident that the dummy column creation is different in training and test independent data. so that filling in all the missing columns of the test independent data with 0._**"
   ]
  },
  {
   "cell_type": "code",
   "execution_count": 20,
   "id": "d6d08ad7",
   "metadata": {},
   "outputs": [],
   "source": [
    "miss_col = set(x_train.columns)-set(x_test.columns)\n",
    "for col in miss_col:\n",
    "    x_test[col]=0\n",
    "x_test = x_test[x_train.columns]"
   ]
  },
  {
   "cell_type": "markdown",
   "id": "46c2d377",
   "metadata": {},
   "source": [
    "**_Now after processing,the dimensions of the column of both training and test independent data are same._**"
   ]
  },
  {
   "cell_type": "code",
   "execution_count": 21,
   "id": "81e301f5",
   "metadata": {},
   "outputs": [
    {
     "name": "stdout",
     "output_type": "stream",
     "text": [
      "X_train (4213, 42)\n",
      "X_test (1806, 42)\n"
     ]
    }
   ],
   "source": [
    "print('X_train',x_train.shape)\n",
    "print('X_test',x_test.shape)"
   ]
  },
  {
   "cell_type": "markdown",
   "id": "c293b001",
   "metadata": {},
   "source": [
    "**_Standardizing the independent variable of the dataset_**"
   ]
  },
  {
   "cell_type": "code",
   "execution_count": 22,
   "id": "715043d7",
   "metadata": {},
   "outputs": [],
   "source": [
    "sc_x = StandardScaler()\n",
    "x_train = sc_x.fit_transform(x_train)\n",
    "x_test = sc_x.fit_transform(x_test)"
   ]
  },
  {
   "cell_type": "markdown",
   "id": "ae8c265a",
   "metadata": {},
   "source": [
    "## _Model Fitting_\n",
    "**_Defining the Function for the ML algorithms using GridSearchCV Algorithm and Predicting the Dependent Variable by fitting the given model and create the pickle file of the model with the given Algo_name. Further getting the Algorithm Name, Best Parameters of the algorithm, R2 Score in percentage format,mean absolute error ,mean squared error and rooted mean squared error between the predicted values and dependent test dataset._**"
   ]
  },
  {
   "cell_type": "code",
   "execution_count": 23,
   "id": "8d9f78fd",
   "metadata": {},
   "outputs": [],
   "source": [
    "def FitModel(x,y,algo_name,algorithm,gridSearchParams,cv):\n",
    "    np.random.seed(10)\n",
    "    grid = GridSearchCV(estimator=algorithm,param_grid=gridSearchParams,scoring='r2',verbose=0,cv=cv,n_jobs=-1)\n",
    "    grid_result = grid.fit(x_train,y_train)\n",
    "    best_params = grid_result.best_params_\n",
    "    y_pred = grid_result.predict(x_test)\n",
    "    pickle.dump(grid_result,open(algo_name,'wb'))\n",
    "    print(' Algorithm Name:',algo_name)\n",
    "    print('\\n Best Params:',best_params)\n",
    "    print('\\n R2 Score:{}%'.format(100*r2_score(y_test,y_pred)))\n",
    "    print('\\n Mean Absolute Error:',mean_absolute_error(y_test,y_pred))\n",
    "    print('\\n Mean Squared Error:',mean_squared_error(y_test,y_pred))\n",
    "    print('\\n Root Mean Squared Error:',sqrt(mean_squared_error(y_test,y_pred)))"
   ]
  },
  {
   "cell_type": "markdown",
   "id": "e58a6100",
   "metadata": {},
   "source": [
    "**_Running the function with empty parameters since the Linear Regression model doesn't need any special parameters and fitting the Linear Regression Algorithm and getting the Algorithm Name, Best Parameters of the algorithm, R2 Score in percentage format,mean absolute error ,mean squared error and rooted mean squared error between the predicted values and dependent test dataset and also the pickle file with the name Linear Regression._**"
   ]
  },
  {
   "cell_type": "code",
   "execution_count": 24,
   "id": "0f755a61",
   "metadata": {},
   "outputs": [
    {
     "name": "stdout",
     "output_type": "stream",
     "text": [
      " Algorithm Name: Linear Regression\n",
      "\n",
      " Best Params: {}\n",
      "\n",
      " R2 Score:76.90457787320157%\n",
      "\n",
      " Mean Absolute Error: 2.9688979955213264\n",
      "\n",
      " Mean Squared Error: 28.66648456664555\n",
      "\n",
      " Root Mean Squared Error: 5.354109129131153\n"
     ]
    }
   ],
   "source": [
    "params = {}\n",
    "FitModel(x,y,'Linear Regression',LinearRegression(),params,cv=10)"
   ]
  },
  {
   "cell_type": "markdown",
   "id": "d4e03665",
   "metadata": {},
   "source": [
    "**_Running the function with empty parameters since the Lasso model doesn't need any special parameters and fitting the Linear Regression Algorithm and getting the Algorithm Name, Best Parameters of the algorithm, R2 Score in percentage format,mean absolute error ,mean squared error and rooted mean squared error between the predicted values and dependent test dataset and also the pickle file with the name Lasso._**"
   ]
  },
  {
   "cell_type": "code",
   "execution_count": 25,
   "id": "35f58148",
   "metadata": {},
   "outputs": [
    {
     "name": "stdout",
     "output_type": "stream",
     "text": [
      " Algorithm Name: Lasso\n",
      "\n",
      " Best Params: {}\n",
      "\n",
      " R2 Score:72.26180392554386%\n",
      "\n",
      " Mean Absolute Error: 3.3695924404312683\n",
      "\n",
      " Mean Squared Error: 34.42918537316263\n",
      "\n",
      " Root Mean Squared Error: 5.867638824362201\n"
     ]
    }
   ],
   "source": [
    "params = {}\n",
    "FitModel(x,y,'Lasso',Lasso(),params,cv=10)"
   ]
  },
  {
   "cell_type": "markdown",
   "id": "fc10c06a",
   "metadata": {},
   "source": [
    "**_Running the function with empty parameters since the Ridge model doesn't need any special parameters and fitting the Linear Regression Algorithm and getting the Algorithm Name, Best Parameters of the algorithm, R2 Score in percentage format,mean absolute error ,mean squared error and rooted mean squared error between the predicted values and dependent test dataset and also the pickle file with the name Ridge._**"
   ]
  },
  {
   "cell_type": "code",
   "execution_count": 26,
   "id": "368d2c98",
   "metadata": {},
   "outputs": [
    {
     "name": "stdout",
     "output_type": "stream",
     "text": [
      " Algorithm Name: Ridge\n",
      "\n",
      " Best Params: {}\n",
      "\n",
      " R2 Score:76.56033098690905%\n",
      "\n",
      " Mean Absolute Error: 2.9792346265441076\n",
      "\n",
      " Mean Squared Error: 29.09377045901163\n",
      "\n",
      " Root Mean Squared Error: 5.393864149106059\n"
     ]
    }
   ],
   "source": [
    "params = {}\n",
    "FitModel(x,y,'Ridge',Ridge(),params,cv=10)"
   ]
  },
  {
   "cell_type": "markdown",
   "id": "9a80a2b2",
   "metadata": {},
   "source": [
    "**_Running the function with empty parameters since the RandomForestRegressor model doesn't need any special parameters and fitting the Linear Regression Algorithm and getting the Algorithm Name, Best Parameters of the algorithm, R2 Score in percentage format,mean absolute error ,mean squared error and rooted mean squared error between the predicted values and dependent test dataset and also the pickle file with the name RandomForestRegressor._**"
   ]
  },
  {
   "cell_type": "code",
   "execution_count": 27,
   "id": "710c346e",
   "metadata": {},
   "outputs": [
    {
     "name": "stdout",
     "output_type": "stream",
     "text": [
      " Algorithm Name: Random Forest\n",
      "\n",
      " Best Params: {'n_estimators': 109, 'random_state': 45}\n",
      "\n",
      " R2 Score:89.16507697440488%\n",
      "\n",
      " Mean Absolute Error: 1.8262045776492803\n",
      "\n",
      " Mean Squared Error: 13.448515986794442\n",
      "\n",
      " Root Mean Squared Error: 3.6672218349582346\n"
     ]
    }
   ],
   "source": [
    "params = {'n_estimators':[44,109,314],\n",
    "         'random_state':[45]}\n",
    "FitModel(x,y,'Random Forest',RandomForestRegressor(),params,cv=10)"
   ]
  },
  {
   "cell_type": "markdown",
   "id": "e5ab6808",
   "metadata": {},
   "source": [
    "**_Running the function with empty parameters since the ExtraTreesRegressor model doesn't need any special parameters and fitting the Linear Regression Algorithm and getting the Algorithm Name, Best Parameters of the algorithm, R2 Score in percentage format,mean absolute error ,mean squared error and rooted mean squared error between the predicted values and dependent test dataset and also the pickle file with the name ExtraTreesRegressor._**"
   ]
  },
  {
   "cell_type": "code",
   "execution_count": 28,
   "id": "1b20f576",
   "metadata": {},
   "outputs": [
    {
     "name": "stdout",
     "output_type": "stream",
     "text": [
      " Algorithm Name: Extra Tree\n",
      "\n",
      " Best Params: {'n_estimators': 109, 'random_state': 45}\n",
      "\n",
      " R2 Score:91.1328292802006%\n",
      "\n",
      " Mean Absolute Error: 1.674786542310545\n",
      "\n",
      " Mean Squared Error: 11.006103772140824\n",
      "\n",
      " Root Mean Squared Error: 3.317544841014334\n"
     ]
    }
   ],
   "source": [
    "params = {'n_estimators':[44,109,314],\n",
    "         'random_state':[45]}\n",
    "FitModel(x,y,'Extra Tree',ExtraTreesRegressor(),params,cv=10)"
   ]
  },
  {
   "cell_type": "markdown",
   "id": "1bb1496f",
   "metadata": {},
   "source": [
    "**_Running the function with empty parameters since the XGBRegressor model doesn't need any special parameters and fitting the Linear Regression Algorithm and getting the Algorithm Name, Best Parameters of the algorithm, R2 Score in percentage format,mean absolute error ,mean squared error and rooted mean squared error between the predicted values and dependent test dataset and also the pickle file with the name XGBRegressor._**"
   ]
  },
  {
   "cell_type": "code",
   "execution_count": 29,
   "id": "6c4f648e",
   "metadata": {},
   "outputs": [
    {
     "name": "stdout",
     "output_type": "stream",
     "text": [
      " Algorithm Name: XG Boost\n",
      "\n",
      " Best Params: {'n_estimators': 44, 'random_state': 45}\n",
      "\n",
      " R2 Score:88.46083787618653%\n",
      "\n",
      " Mean Absolute Error: 1.8590134571748451\n",
      "\n",
      " Mean Squared Error: 14.322631174188217\n",
      "\n",
      " Root Mean Squared Error: 3.78452522440903\n"
     ]
    }
   ],
   "source": [
    "params = {'n_estimators':[44,109,314],\n",
    "         'random_state':[45]}\n",
    "FitModel(x,y,'XG Boost',XGBRegressor(),params,cv=10)"
   ]
  },
  {
   "cell_type": "markdown",
   "id": "69832d02",
   "metadata": {},
   "source": [
    "**_Running the function with empty parameters since the CatBoostRegressor model doesn't need any special parameters and fitting the Linear Regression Algorithm and getting the Algorithm Name, Best Parameters of the algorithm, R2 Score in percentage format,mean absolute error ,mean squared error and rooted mean squared error between the predicted values and dependent test dataset and also the pickle file with the name CatBoostRegressor._**"
   ]
  },
  {
   "cell_type": "code",
   "execution_count": 30,
   "id": "2ed1c816",
   "metadata": {},
   "outputs": [
    {
     "name": "stdout",
     "output_type": "stream",
     "text": [
      " Algorithm Name: Cat Boost\n",
      "\n",
      " Best Params: {}\n",
      "\n",
      " R2 Score:92.01917666078496%\n",
      "\n",
      " Mean Absolute Error: 1.6498705851737538\n",
      "\n",
      " Mean Squared Error: 9.905952263036088\n",
      "\n",
      " Root Mean Squared Error: 3.1473722790664738\n"
     ]
    }
   ],
   "source": [
    "params = {}\n",
    "FitModel(x,y,'Cat Boost',CatBoostRegressor(verbose=0),params,cv=10)"
   ]
  },
  {
   "cell_type": "markdown",
   "id": "e12dae65",
   "metadata": {},
   "source": [
    "**_Running the function with empty parameters since the LGBMRegressor model doesn't need any special parameters and fitting the Linear Regression Algorithm and getting the Algorithm Name, Best Parameters of the algorithm, R2 Score in percentage format,mean absolute error ,mean squared error and rooted mean squared error between the predicted values and dependent test dataset and also the pickle file with the name LGBMRegressor._**"
   ]
  },
  {
   "cell_type": "code",
   "execution_count": 31,
   "id": "0f76f8d9",
   "metadata": {},
   "outputs": [
    {
     "name": "stdout",
     "output_type": "stream",
     "text": [
      " Algorithm Name: Light GBM\n",
      "\n",
      " Best Params: {}\n",
      "\n",
      " R2 Score:88.81763190646117%\n",
      "\n",
      " Mean Absolute Error: 1.8329374062863661\n",
      "\n",
      " Mean Squared Error: 13.879771524072929\n",
      "\n",
      " Root Mean Squared Error: 3.725556538837242\n"
     ]
    }
   ],
   "source": [
    "params = {}\n",
    "FitModel(x,y,'Light GBM',LGBMRegressor(),params,cv=10)"
   ]
  },
  {
   "cell_type": "markdown",
   "id": "e822f2ab",
   "metadata": {},
   "source": [
    "## _Boosting the Model_\n",
    "**_Defining the Function for the ML algorithms using GridSearchCV Algorithm and boosting the model using AdaBoostRegressor algorithm and Predicting the Dependent Variable by fitting the given model and create the pickle file of the model with the given Algo_name. Further getting the Algorithm Name, Best Parameters of the algorithm, R2 Score in percentage format,mean absolute error ,mean squared error and rooted mean squared error between the predicted values and dependent test dataset._**"
   ]
  },
  {
   "cell_type": "code",
   "execution_count": 32,
   "id": "bb89b499",
   "metadata": {},
   "outputs": [],
   "source": [
    "def BoostModel(x,y,algo_name,algorithm,gridSearchParams,cv):\n",
    "    np.random.seed(10)\n",
    "    grid = GridSearchCV(estimator=algorithm,param_grid=gridSearchParams,scoring='r2',verbose=0,cv=cv,n_jobs=-1)\n",
    "    grid_result = grid.fit(x_train,y_train)\n",
    "    AdaBoost = AdaBoostRegressor(base_estimator=grid_result,learning_rate=1)\n",
    "    AdaBoost_result = AdaBoost.fit(x_train,y_train)\n",
    "    y_pred = AdaBoost_result.predict(x_test)\n",
    "    pickle.dump(AdaBoost_result,open(algo_name,'wb'))\n",
    "    print(' Algorithm Name:',algo_name)\n",
    "    print('\\n R2 Score:{}%'.format(100*r2_score(y_test,y_pred)))\n",
    "    print('\\n Mean Absolute Error:',mean_absolute_error(y_test,y_pred))\n",
    "    print('\\n Mean Squared Error:',mean_squared_error(y_test,y_pred))\n",
    "    print('\\n Root Mean Squared Error:',sqrt(mean_squared_error(y_test,y_pred)))"
   ]
  },
  {
   "cell_type": "markdown",
   "id": "6864d091",
   "metadata": {},
   "source": [
    "**_Running the function with empty parameters since the Linear Regression model doesn't need any special parameters and fitting the Linear Regression Algorithm and getting the Algorithm Name, R2 Score in percentage format,mean absolute error ,mean squared error and rooted mean squared error between the predicted values and dependent test dataset and also the pickle file with the name Linear Regression._**"
   ]
  },
  {
   "cell_type": "code",
   "execution_count": 33,
   "id": "89fada30",
   "metadata": {},
   "outputs": [
    {
     "name": "stdout",
     "output_type": "stream",
     "text": [
      " Algorithm Name: Linear Regression\n",
      "\n",
      " R2 Score:-21.276385722418702%\n",
      "\n",
      " Mean Absolute Error: 8.198366741775613\n",
      "\n",
      " Mean Squared Error: 150.53059522026598\n",
      "\n",
      " Root Mean Squared Error: 12.269091051103418\n"
     ]
    }
   ],
   "source": [
    "params = {}\n",
    "BoostModel(x,y,'Linear Regression',LinearRegression(),params,cv=10)"
   ]
  },
  {
   "cell_type": "markdown",
   "id": "1cefdc43",
   "metadata": {},
   "source": [
    "**_Running the function with empty parameters since the Lasso model doesn't need any special parameters and fitting the Lasso Algorithm and getting the Algorithm Name, R2 Score in percentage format,mean absolute error ,mean squared error and rooted mean squared error between the predicted values and dependent test dataset and also the pickle file with the name Lasso._**"
   ]
  },
  {
   "cell_type": "code",
   "execution_count": 34,
   "id": "c72a4382",
   "metadata": {},
   "outputs": [
    {
     "name": "stdout",
     "output_type": "stream",
     "text": [
      " Algorithm Name: Lasso\n",
      "\n",
      " R2 Score:46.588213458894664%\n",
      "\n",
      " Mean Absolute Error: 4.952642562366776\n",
      "\n",
      " Mean Squared Error: 66.2957423402511\n",
      "\n",
      " Root Mean Squared Error: 8.142219742812834\n"
     ]
    }
   ],
   "source": [
    "params = {}\n",
    "BoostModel(x,y,'Lasso',Lasso(),params,cv=10)"
   ]
  },
  {
   "cell_type": "markdown",
   "id": "923cd497",
   "metadata": {},
   "source": [
    "**_Running the function with empty parameters since the Ridge model doesn't need any special parameters and fitting the Ridge Algorithm and getting the Algorithm Name, R2 Score in percentage format,mean absolute error ,mean squared error and rooted mean squared error between the predicted values and dependent test dataset and also the pickle file with the name Ridge._**"
   ]
  },
  {
   "cell_type": "code",
   "execution_count": 35,
   "id": "5928d72b",
   "metadata": {},
   "outputs": [
    {
     "name": "stdout",
     "output_type": "stream",
     "text": [
      " Algorithm Name: Ridge\n",
      "\n",
      " R2 Score:64.36436199299995%\n",
      "\n",
      " Mean Absolute Error: 3.6808781828019286\n",
      "\n",
      " Mean Squared Error: 44.23164302179591\n",
      "\n",
      " Root Mean Squared Error: 6.650687409719082\n"
     ]
    }
   ],
   "source": [
    "params = {}\n",
    "BoostModel(x,y,'Ridge',Ridge(),params,cv=10)"
   ]
  },
  {
   "cell_type": "markdown",
   "id": "6ca16877",
   "metadata": {},
   "source": [
    "**_Running the function with some appropriate parameters and Boosting the Random Forest Regressor Algorithm  and getting the Algorithm Name, R2 Score in percentage format,mean absolute error ,mean squared error and rooted mean squared error between the predicted values and dependent test dataset and also the pickle file with the name RandomForestRegressor._**"
   ]
  },
  {
   "cell_type": "code",
   "execution_count": 36,
   "id": "2f64d48d",
   "metadata": {},
   "outputs": [
    {
     "name": "stdout",
     "output_type": "stream",
     "text": [
      " Algorithm Name: Random Forest\n",
      "\n",
      " R2 Score:89.4899204020959%\n",
      "\n",
      " Mean Absolute Error: 1.7843019054763463\n",
      "\n",
      " Mean Squared Error: 13.045314042471658\n",
      "\n",
      " Root Mean Squared Error: 3.6118297360855283\n"
     ]
    }
   ],
   "source": [
    "params = {'n_estimators':[44,109,314],\n",
    "         'random_state':[45]}\n",
    "BoostModel(x,y,'Random Forest',RandomForestRegressor(),params,cv=10)"
   ]
  },
  {
   "cell_type": "markdown",
   "id": "2e83d718",
   "metadata": {},
   "source": [
    "**_Running the function with some appropriate parameters and Boosting the Extra Tree Regressor Algorithm  and getting the Algorithm Name, R2 Score in percentage format,mean absolute error ,mean squared error and rooted mean squared error between the predicted values and dependent test dataset and also the pickle file with the name RandomForestRegressor._**"
   ]
  },
  {
   "cell_type": "code",
   "execution_count": 37,
   "id": "dbb7c359",
   "metadata": {
    "scrolled": true
   },
   "outputs": [
    {
     "name": "stdout",
     "output_type": "stream",
     "text": [
      " Algorithm Name: Extra Tree\n",
      "\n",
      " R2 Score:91.52357306619938%\n",
      "\n",
      " Mean Absolute Error: 1.6537920177917995\n",
      "\n",
      " Mean Squared Error: 10.521105028695063\n",
      "\n",
      " Root Mean Squared Error: 3.243625291043197\n"
     ]
    }
   ],
   "source": [
    "params = {'n_estimators':[44,109,314],\n",
    "         'random_state':[45]}\n",
    "BoostModel(x,y,'Extra Tree',ExtraTreesRegressor(),params,cv=10)"
   ]
  },
  {
   "cell_type": "markdown",
   "id": "aa81b516",
   "metadata": {},
   "source": [
    "**_For Further prediction use the model with the highest r2_score and load the pickle file with the format as `pickle.load(open(algo_name,'rb'))`_**"
   ]
  }
 ],
 "metadata": {
  "kernelspec": {
   "display_name": "Python 3 (ipykernel)",
   "language": "python",
   "name": "python3"
  },
  "language_info": {
   "codemirror_mode": {
    "name": "ipython",
    "version": 3
   },
   "file_extension": ".py",
   "mimetype": "text/x-python",
   "name": "python",
   "nbconvert_exporter": "python",
   "pygments_lexer": "ipython3",
   "version": "3.9.13"
  }
 },
 "nbformat": 4,
 "nbformat_minor": 5
}
